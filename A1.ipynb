{
  "cells": [
    {
      "cell_type": "markdown",
      "metadata": {
        "id": "N-C_fu2ixkMG"
      },
      "source": [
        "# Задание 1  \n",
        "\n",
        "Для выполнения этого задания нужно будет дописать код в этом ноутбуке  \n",
        "\n",
        "В этом задании Вам предстоит:\n",
        "- повторить основные операции линейной алгебры с библиотекой numpy  \n",
        "- реализовать Softmax классификатор cо случайными весами W  \n",
        "- построить гистограмму распределения предсказанных вероятностей"
      ]
    },
    {
      "cell_type": "code",
      "execution_count": 1,
      "metadata": {
        "id": "S3w-dQrixkMN"
      },
      "outputs": [],
      "source": [
        "import numpy as np"
      ]
    },
    {
      "cell_type": "markdown",
      "metadata": {
        "id": "zJa3KCSmyPy_"
      },
      "source": [
        "## 1. Основы линейной алгебры"
      ]
    },
    {
      "cell_type": "markdown",
      "metadata": {
        "id": "VKmyO8HR1SDh"
      },
      "source": [
        "Создайте квадратную матрицу из девяти элементов типа uint8 с элементами от 0 до 8 включительно."
      ]
    },
    {
      "cell_type": "code",
      "execution_count": 2,
      "metadata": {
        "id": "Y6lGtNomxkMP"
      },
      "outputs": [],
      "source": [
        "a = np.array([[0, 1, 2], [3, 4, 5], [6, 7, 8]], dtype=np.uint8)"
      ]
    },
    {
      "cell_type": "code",
      "execution_count": null,
      "metadata": {
        "id": "plN1BGML2Mv1"
      },
      "outputs": [],
      "source": [
        "# Your code here\n",
        "b = np.arange"
      ]
    },
    {
      "cell_type": "code",
      "execution_count": null,
      "metadata": {
        "id": "kxTLJ_tI2Mv2"
      },
      "outputs": [],
      "source": [
        "assert (a == b).all() , \"Not equals\"\n",
        "assert b.dtype == np.uint8, \"Type not uint8\""
      ]
    },
    {
      "cell_type": "markdown",
      "metadata": {
        "id": "NzF9wgYZxkMa"
      },
      "source": [
        "Прочитайте изображение 'img.jpg' и преобразуйте его в вектор X размерностью (1, 3072) "
      ]
    },
    {
      "cell_type": "code",
      "execution_count": null,
      "metadata": {
        "id": "QUeePm02xkMa"
      },
      "outputs": [],
      "source": [
        "import imageio.v2 as imageio\n",
        "\n",
        "# Code here\n"
      ]
    },
    {
      "cell_type": "code",
      "execution_count": null,
      "metadata": {
        "id": "gf6LiSgt2Mv3"
      },
      "outputs": [],
      "source": [
        "assert X.shape == (1, 3072) , \"Shape mismatch\"\n",
        "assert X.sum() ==  233278, \"Image mismatch\""
      ]
    },
    {
      "cell_type": "markdown",
      "metadata": {
        "id": "xdPVKlxVxkMf"
      },
      "source": [
        "Расстояния между векторами"
      ]
    },
    {
      "cell_type": "markdown",
      "metadata": {
        "id": "VQedmu-ixkMf"
      },
      "source": [
        "Для двух векторов $x = (x_{1}, \\dots, x_{n}) \\in \\mathbb{R}^{n}$ и $y = (y_{1}, \\dots, y_{n}) \\in \\mathbb{R}^{n}$ $\\ell_{1}$ и $\\ell_{2}$ раccтояния вычисляются по следующим формулам соответственно:\n",
        "\n",
        "$$\n",
        " \\rho_{1}\\left( x, y \\right) = \\left\\Vert x - y \\right\\Vert_{1} = \\sum_{i=1}^n \\left| x_{i} - y_{i} \\right|\n",
        "$$\n",
        "\n",
        "$$\n",
        " \\rho_{2}\\left( x, y \\right) = \\left\\Vert x - y \\right\\Vert_{2} = \n",
        " \\sqrt{\\sum_{i=1}^n \\left( x_{i} - y_{i} \\right)^2}.\n",
        "$$  \n",
        "  \n",
        "Вычислите расстояния r1 и r2 между векторами a, b "
      ]
    },
    {
      "cell_type": "code",
      "execution_count": null,
      "metadata": {
        "id": "5T5zMkMxxkMf"
      },
      "outputs": [],
      "source": [
        "a = np.arange(9)\n",
        "b = np.ones(9)\n",
        "\n",
        "# Code here\n",
        "r1 = None\n",
        "r2 = None\n",
        "\n",
        "assert np.isclose(r1, 29.0)\n",
        "assert np.isclose(r2, 11.874342)"
      ]
    },
    {
      "cell_type": "markdown",
      "metadata": {
        "id": "qQLTzCqaxkMk"
      },
      "source": [
        "Скалярное произведение в пространстве $\\mathbb{R}^{n}$ для двух векторов $x = (x_{1}, \\dots, x_{n})$ и $y = (y_{1}, \\dots, y_{n})$ определяется как:\n",
        "\n",
        "$$\n",
        "\\langle x, y \\rangle = \\sum_{i=1}^n x_{i} y_{i}.\n",
        "$$  \n",
        "\n",
        "Вычислите скалярное произведение a и b с помощью np.dot,  np.sum"
      ]
    },
    {
      "cell_type": "code",
      "execution_count": null,
      "metadata": {
        "id": "oMibk7KqxkMk"
      },
      "outputs": [],
      "source": [
        "inner = None\n",
        "\n",
        "assert np.isclose(inner, 36) "
      ]
    },
    {
      "cell_type": "markdown",
      "metadata": {
        "id": "pTpPxkAHxkMl"
      },
      "source": [
        "Длиной вектора $x = (x_{1}, \\dots, x_{n}) \\in \\mathbb{R}^{n}$ называется квадратный корень из скалярного произведения, то есть длина равна евклидовой норме вектора:\n",
        "\n",
        "$$\n",
        "\\left| x \\right| = \\sqrt{\\langle x, x \\rangle} = \\sqrt{\\sum_{i=1}^n x_{i}^2} =  \\left\\Vert x \\right\\Vert_{2}.\n",
        "$$"
      ]
    },
    {
      "cell_type": "markdown",
      "metadata": {
        "id": "JcQ-QyzfxkMl"
      },
      "source": [
        "Теперь, когда мы знаем расстояние между двумя ненулевыми векторами и их длины, мы можем вычислить угол между ними через скалярное произведение:\n",
        "\n",
        "$$\n",
        "\\langle x, y \\rangle = \\left| x \\right| | y | \\cos(\\alpha)\n",
        "\\implies \\cos(\\alpha) = \\frac{\\langle x, y \\rangle}{\\left|| x |\\right| || y ||},\n",
        "$$\n",
        "\n",
        "где $\\alpha \\in [0, \\pi]$ — угол между векторами $x$ и $y$.  \n",
        "\n",
        "Вычислите косинус угла между a и b с помощью np.dot,  np.sum"
      ]
    },
    {
      "cell_type": "code",
      "execution_count": null,
      "metadata": {
        "id": "phovUpDmxkMl"
      },
      "outputs": [],
      "source": [
        "cos_angle = None\n",
        "\n",
        "assert np.isclose(cos_angle, 0.840168) "
      ]
    },
    {
      "cell_type": "markdown",
      "metadata": {
        "id": "rS784rXPxkMc"
      },
      "source": [
        "## 3. Softmax преобразование"
      ]
    },
    {
      "cell_type": "markdown",
      "metadata": {
        "id": "fWkWx1kDxkMc"
      },
      "source": [
        "Выполните Softmax преобразование над вектором из элементов от 1 до 9 включительно. \n",
        "\n",
        "$$\\sigma (z)_{i}={\\frac {e^{z_{i}}}{\\displaystyle \\sum _{k\\mathop {=} 1}^{K}e^{z_{k}}}}$$"
      ]
    },
    {
      "cell_type": "code",
      "execution_count": null,
      "metadata": {
        "id": "wAtv8cY05idH"
      },
      "outputs": [],
      "source": [
        "z = np.arange(1, 9)\n",
        "\n",
        "# Code here\n",
        "s = None\n",
        "#\n",
        "\n",
        "assert np.allclose(s, np.array([5.76612770e-04, 1.56739601e-03, 4.26062410e-03, \n",
        "1.15815771e-02, 3.14819905e-02, 8.55769227e-02, 2.32622194e-01, 6.32332683e-01]))"
      ]
    },
    {
      "cell_type": "markdown",
      "metadata": {
        "id": "GUHEktcI2Mv7"
      },
      "source": [
        "Реализуйте линейный классификатор со случайными весами W"
      ]
    },
    {
      "cell_type": "code",
      "execution_count": null,
      "metadata": {
        "id": "j3pShqrf2Mv7"
      },
      "outputs": [],
      "source": [
        "def linear_random_softmax_classifier(X, C):\n",
        "    \"\"\"\n",
        "    Inputs X have dimension of N examples D, there are C classes, and we operate on minibatches\n",
        "    .\n",
        "    Inputs:\n",
        "    - X: A numpy array of shape (N, D) containing a minibatch of data.\n",
        "    - C: A number of classes\n",
        "    Returns y predicted (N, C)\n",
        "    \"\"\"\n",
        "    N, D = X.shape\n",
        "    W = np.random.rand(D, C)\n",
        "    y = np.zeros((N, C))\n",
        "    \n",
        "    # Implement softmax calculation and return predicted probabilities\n",
        "    \n",
        "    return y"
      ]
    },
    {
      "cell_type": "markdown",
      "metadata": {
        "id": "h_IpWPcL2Mv8"
      },
      "source": [
        "Постройте гистограмму распределения вероятностей y (plt.bar)"
      ]
    },
    {
      "cell_type": "code",
      "execution_count": null,
      "metadata": {
        "id": "pJBMRTH42Mv8"
      },
      "outputs": [],
      "source": [
        "import matplotlib.pyplot as plt\n",
        "\n",
        "# Code here\n"
      ]
    },
    {
      "cell_type": "markdown",
      "metadata": {
        "id": "GWHHGSUv2Mv8"
      },
      "source": [
        "**Вопрос 1**\n",
        "\n",
        "Влияет ли количество признаков D на предсказанную вероятность?  \n",
        "$\\color{blue}{\\textit Ответ:}$ *заполнить здесь* "
      ]
    },
    {
      "cell_type": "markdown",
      "metadata": {
        "id": "LDLVaLZD2Mv8"
      },
      "source": [
        "**Вопрос 2**\n",
        "\n",
        "Как связаны количество классов и матожидание предсказанной вероятности?  \n",
        "$\\color{blue}{\\textit Ответ:}$ *заполнить здесь* "
      ]
    }
  ],
  "metadata": {
    "anaconda-cloud": {},
    "colab": {
      "collapsed_sections": [],
      "name": "A1.ipynb",
      "provenance": []
    },
    "kernelspec": {
      "display_name": "Python 3 (ipykernel)",
      "language": "python",
      "name": "python3"
    },
    "language_info": {
      "codemirror_mode": {
        "name": "ipython",
        "version": 3
      },
      "file_extension": ".py",
      "mimetype": "text/x-python",
      "name": "python",
      "nbconvert_exporter": "python",
      "pygments_lexer": "ipython3",
      "version": "3.8.10"
    }
  },
  "nbformat": 4,
  "nbformat_minor": 0
}