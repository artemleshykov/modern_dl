{
 "cells": [
  {
   "cell_type": "markdown",
   "metadata": {
    "id": "hHTx7qtNqTmr"
   },
   "source": [
    "# Задание 4 - Реализация сверточной нейронной сети на Keras\n",
    "\n",
    "В этом упражнении мы реализуем:\n",
    "- функцию для вычисления 2-мерной свертки  \n",
    "- функцию для вычисления 3-мерной свертки  \n",
    "- сверточную сеть на Keras и обучим ее до точности 80%"
   ]
  },
  {
   "cell_type": "markdown",
   "metadata": {},
   "source": [
    "### 1D convolution"
   ]
  },
  {
   "cell_type": "markdown",
   "metadata": {},
   "source": [
    "$$ c_{i}=\\sum \\limits _{k=0}^{N_{out}}x_{k}w_{i-k},\\;i=0,\\ldots ,N_{out} $$"
   ]
  },
  {
   "cell_type": "code",
   "execution_count": null,
   "metadata": {},
   "outputs": [],
   "source": [
    "import numpy as np\n",
    "\n",
    "x = np.array((0,0,1,1,1,0,0))\n",
    "w = np.array((0,1,0))\n",
    "c = np.zeros(5)\n",
    "\n",
    "for i in range(5):\n",
    "    c[i] = np.sum(x[i:i+3]*w)\n",
    "print(c)"
   ]
  },
  {
   "cell_type": "markdown",
   "metadata": {},
   "source": [
    "### 2D convolution"
   ]
  },
  {
   "cell_type": "code",
   "execution_count": null,
   "metadata": {},
   "outputs": [],
   "source": [
    "x = np.array([\n",
    "    [0,0,1,1,0,0,0],\n",
    "    [0,0,1,1,0,0,0],\n",
    "    [0,1,1,1,0,0,0],\n",
    "    [0,0,1,1,0,0,0],\n",
    "    [0,0,1,1,0,0,0],\n",
    "    [0,0,1,1,0,0,0]\n",
    "    ])"
   ]
  },
  {
   "cell_type": "code",
   "execution_count": null,
   "metadata": {},
   "outputs": [],
   "source": [
    "w1 = np.array([\n",
    "    [0,0,0],\n",
    "    [1,1,1],\n",
    "    [0,0,0]\n",
    "])\n",
    "\n",
    "w2 = np.array([\n",
    "    [0,1,0],\n",
    "    [0,1,0],\n",
    "    [0,1,0]\n",
    "])"
   ]
  },
  {
   "cell_type": "code",
   "execution_count": null,
   "metadata": {},
   "outputs": [],
   "source": [
    "def conv2D(x, w):\n",
    "    c = np.zeros((4,5))\n",
    "    for i in range(4):\n",
    "        for j in range(5):\n",
    "            c[i,j] = np.sum(x[i:i+3, j:j+3] * w)\n",
    "    return c"
   ]
  },
  {
   "cell_type": "code",
   "execution_count": null,
   "metadata": {},
   "outputs": [],
   "source": [
    "conv2D(x, w1)"
   ]
  },
  {
   "cell_type": "code",
   "execution_count": null,
   "metadata": {
    "scrolled": true
   },
   "outputs": [],
   "source": [
    "conv2D(x, w2)"
   ]
  },
  {
   "cell_type": "markdown",
   "metadata": {},
   "source": [
    "### Задание 1. \n",
    "Перепишите функцию conv2D так, чтобы она работала с 2D матрицами x и w произвольного размера"
   ]
  },
  {
   "cell_type": "code",
   "execution_count": null,
   "metadata": {},
   "outputs": [],
   "source": [
    "def conv2D(x, w):\n",
    "    # Your code here\n",
    "    \n",
    "    return c"
   ]
  },
  {
   "cell_type": "code",
   "execution_count": null,
   "metadata": {},
   "outputs": [],
   "source": [
    "c = conv2D(np.ones((10, 20)), np.ones((3,4)))\n",
    "\n",
    "assert c.shape == (8, 17)"
   ]
  },
  {
   "cell_type": "markdown",
   "metadata": {},
   "source": [
    "### Задание 2. \n",
    "Напишите функцию conv2D так, чтобы она работала с 3D тензорами x и w с произвольными высотой и шириной и глубиной 3"
   ]
  },
  {
   "cell_type": "code",
   "execution_count": 73,
   "metadata": {},
   "outputs": [],
   "source": [
    "def conv2D(x, w):\n",
    "    # Your code here\n",
    "    \n",
    "    return c"
   ]
  },
  {
   "cell_type": "code",
   "execution_count": null,
   "metadata": {},
   "outputs": [],
   "source": [
    "c = conv2D(np.ones((10, 20, 3)), np.ones((3,4,3)))\n",
    "\n",
    "assert c.shape == (8, 17, 1)"
   ]
  },
  {
   "cell_type": "markdown",
   "metadata": {
    "id": "RENeyXUWqTm8"
   },
   "source": [
    "# Keras  Model"
   ]
  },
  {
   "cell_type": "code",
   "execution_count": null,
   "metadata": {
    "id": "4o0LkWMusLbT"
   },
   "outputs": [],
   "source": [
    "%%bash\n",
    "git clone https://github.com/balezz/modern_dl.git\n",
    "cd modern_dl\n",
    "mkdir data\n",
    "cd data\n",
    "wget https://www.cs.toronto.edu/~kriz/cifar-10-python.tar.gz -O cifar-10-python.tar.gz > /dev/null\n",
    "tar -xzvf cifar-10-python.tar.gz > /dev/null"
   ]
  },
  {
   "cell_type": "code",
   "execution_count": null,
   "metadata": {
    "colab": {
     "base_uri": "https://localhost:8080/"
    },
    "id": "Qpufynl_rSC-",
    "outputId": "0a1d261a-55c7-40d9-c375-737e81f55f3b"
   },
   "outputs": [],
   "source": [
    "%cd modern_dl"
   ]
  },
  {
   "cell_type": "code",
   "execution_count": null,
   "metadata": {
    "id": "8iDDqkCVqTm1"
   },
   "outputs": [],
   "source": [
    "import random\n",
    "import numpy as np\n",
    "from lib.data_utils import load_CIFAR10\n",
    "import matplotlib.pyplot as plt\n",
    "\n",
    "%matplotlib inline\n",
    "plt.rcParams['figure.figsize'] = (10.0, 8.0) # set default size of plots"
   ]
  },
  {
   "cell_type": "code",
   "execution_count": null,
   "metadata": {
    "id": "7Vksu9_hshtH"
   },
   "outputs": [],
   "source": [
    "# Путь к папке с данными\n",
    "cifar10_dir = 'data/cifar-10-batches-py'\n",
    "X_train, y_train, X_test, y_test = load_CIFAR10(cifar10_dir)\n",
    "\n",
    "# Нормализуем значения яркости пикселей \n",
    "mean_image = np.mean(X_train, axis=0)\n",
    "\n",
    "# Вычтем средние значения яркости\n",
    "X_train -= mean_image\n",
    "X_test -= mean_image"
   ]
  },
  {
   "cell_type": "code",
   "execution_count": null,
   "metadata": {},
   "outputs": [],
   "source": [
    "import tensorflow as tf\n",
    "from tensorflow.keras import models, layers\n",
    "\n",
    "class MyModel(tf.keras.Model):\n",
    "\n",
    "    def __init__(self, input_shape):\n",
    "        super().__init__()\n",
    "        self.conv = layers.Conv2D(6, kernel_size=(5, 5), strides=(1, 1), \n",
    "                                   activation='tanh', input_shape=input_shape, padding=\"same\")\n",
    "        self.pool = layers.AveragePooling2D(pool_size=(2, 2), strides=(1, 1), padding='valid')\n",
    "        self.flatten = layers.Flatten()\n",
    "        self.dense1 = layers.Dense(84, activation='tanh')\n",
    "        self.dense2 = layers.Dense(10, activation='softmax')\n",
    "\n",
    "    def call(self, inputs, training=False):\n",
    "        x = self.conv(inputs)\n",
    "        x = self.pool(x)\n",
    "        x = self.flatten(x)\n",
    "        x = self.dense1(x)\n",
    "        x = self.dense2(x)\n",
    "        \n",
    "        return x\n"
   ]
  },
  {
   "cell_type": "code",
   "execution_count": 72,
   "metadata": {
    "id": "HB7iNcj6SCUX"
   },
   "outputs": [],
   "source": [
    "# Create ConvNet instance\n",
    "IMAGE_SHAPE = (32, 32, 3)\n",
    "\n",
    "model = MyModel(IMAGE_SHAPE)\n",
    "model.compile(loss=tf.keras.losses.categorical_crossentropy, optimizer='SGD')"
   ]
  },
  {
   "cell_type": "markdown",
   "metadata": {},
   "source": [
    "### Проверяем работу модели, переобучив на малой выборке"
   ]
  },
  {
   "cell_type": "code",
   "execution_count": null,
   "metadata": {
    "colab": {
     "base_uri": "https://localhost:8080/"
    },
    "id": "oc5nbuadqTm-",
    "outputId": "93af0a1c-6482-4f5b-a20a-4432741cbdc6"
   },
   "outputs": [],
   "source": [
    "# transform y indexes to sparse representation: [2] -> [0, 0, 1, 0, 0, 0, 0, 0, 0, 0]\n",
    "X_dev = X_train[:200]\n",
    "y_dev = y_train[:200]\n",
    "\n",
    "y_dev_sparse = tf.keras.utils.to_categorical(y_dev, num_classes=10)\n",
    "\n",
    "# Check initial loss and overfitting model with small dev dataset\n",
    "hist = model.fit(X_dev, y_dev_sparse, batch_size=32, epochs=10)"
   ]
  },
  {
   "cell_type": "markdown",
   "metadata": {
    "id": "9VW6895HqTnI"
   },
   "source": [
    "### Обучаем на train, проверяем на val выборке"
   ]
  },
  {
   "cell_type": "code",
   "execution_count": null,
   "metadata": {
    "colab": {
     "base_uri": "https://localhost:8080/"
    },
    "id": "pZtzGzabVmm8",
    "outputId": "55d91141-2814-4859-bf7d-eb2dcf623d18",
    "scrolled": true
   },
   "outputs": [],
   "source": [
    "BS = 64\n",
    "LR = 1e-4\n",
    "EPOCHS = 6\n",
    "\n",
    "model.compile(loss=tf.keras.losses.categorical_crossentropy, optimizer='SGD', metrics=['accuracy'])\n",
    "\n",
    "y_train_sparse = tf.keras.utils.to_categorical(y_train, num_classes=10)\n",
    "hist = model.fit(X_train, y_train_sparse, validation_split=0.2, batch_size=BS, epochs=EPOCHS)"
   ]
  },
  {
   "cell_type": "code",
   "execution_count": null,
   "metadata": {
    "colab": {
     "base_uri": "https://localhost:8080/",
     "height": 254
    },
    "id": "1T6Xm6PxqTnN",
    "outputId": "002ef222-16ab-4344-afa1-5b439088357a"
   },
   "outputs": [],
   "source": [
    "plt.figure(figsize=(15, 7))\n",
    "plt.subplot(221)\n",
    "plt.title(\"Train Loss\")\n",
    "plt.plot(hist.history['loss'])\n",
    "plt.subplot(222)\n",
    "plt.title(\"Train/validation accuracy\")\n",
    "plt.plot(hist.history['accuracy'])\n",
    "plt.plot(hist.history['val_accuracy'])"
   ]
  },
  {
   "cell_type": "markdown",
   "metadata": {
    "id": "zwlrmE1TqTnN"
   },
   "source": [
    "# Как видно из графиков, модель переобучилась  "
   ]
  },
  {
   "cell_type": "markdown",
   "metadata": {
    "id": "zwlrmE1TqTnN"
   },
   "source": [
    "### Задание 3\n",
    "Поэкспериментируйте с гиперпараметрами и архитектурой, чтобы получить точность на тесте больше 80%"
   ]
  },
  {
   "cell_type": "code",
   "execution_count": null,
   "metadata": {
    "id": "GadN2qcofhsB"
   },
   "outputs": [],
   "source": [
    "# Experiment here!\n"
   ]
  },
  {
   "cell_type": "code",
   "execution_count": null,
   "metadata": {
    "colab": {
     "base_uri": "https://localhost:8080/",
     "height": 217
    },
    "id": "YKw5JN6nqTnN",
    "outputId": "d8a6b2b8-86b8-4011-8af4-938a0715b7eb"
   },
   "outputs": [],
   "source": [
    "def multiclass_accuracy(y_pred, y_true):\n",
    "  return np.mean(np.equal(y_true, np.argmax(y_pred, axis=1)))\n",
    "\n",
    "y_test_pred = lenet.predict(X_test)\n",
    "test_accuracy = multiclass_accuracy(test_pred, y_test)\n",
    "\n",
    "print('Test set accuracy: %f' % (test_accuracy, ))\n",
    "assert test_accuracy > 0.8"
   ]
  }
 ],
 "metadata": {
  "colab": {
   "collapsed_sections": [],
   "name": "A4-ConvolutionalNeuralNetwork.ipynb",
   "provenance": []
  },
  "kernelspec": {
   "display_name": "Python 3 (ipykernel)",
   "language": "python",
   "name": "python3"
  },
  "language_info": {
   "codemirror_mode": {
    "name": "ipython",
    "version": 3
   },
   "file_extension": ".py",
   "mimetype": "text/x-python",
   "name": "python",
   "nbconvert_exporter": "python",
   "pygments_lexer": "ipython3",
   "version": "3.8.10"
  }
 },
 "nbformat": 4,
 "nbformat_minor": 1
}
